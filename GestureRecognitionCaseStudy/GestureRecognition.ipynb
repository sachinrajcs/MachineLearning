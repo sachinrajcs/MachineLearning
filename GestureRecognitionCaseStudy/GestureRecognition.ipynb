{
 "cells": [
  {
   "cell_type": "markdown",
   "metadata": {},
   "source": [
    "# Gesture Recognition\n",
    "In this group project, you are going to build a 3D Conv model that will be able to predict the 5 gestures correctly. Please import the following libraries to get started."
   ]
  },
  {
   "cell_type": "code",
   "execution_count": 12,
   "metadata": {},
   "outputs": [],
   "source": [
    "import numpy as np\n",
    "import os\n",
    "from cv2 import imread,resize\n",
    "import datetime\n",
    "import os"
   ]
  },
  {
   "cell_type": "markdown",
   "metadata": {},
   "source": [
    "We set the random seed so that the results don't vary drastically."
   ]
  },
  {
   "cell_type": "code",
   "execution_count": 13,
   "metadata": {},
   "outputs": [],
   "source": [
    "np.random.seed(30)\n",
    "import random as rn\n",
    "rn.seed(30)\n",
    "from keras import backend as K\n",
    "import tensorflow as tf\n",
    "tf.set_random_seed(30)"
   ]
  },
  {
   "cell_type": "markdown",
   "metadata": {},
   "source": [
    "In this block, you read the folder names for training and validation. You also set the `batch_size` here. Note that you set the batch size in such a way that you are able to use the GPU in full capacity. You keep increasing the batch size until the machine throws an error."
   ]
  },
  {
   "cell_type": "code",
   "execution_count": 14,
   "metadata": {},
   "outputs": [],
   "source": [
    "train_doc = np.random.permutation(open('./Project_data/train.csv').readlines())\n",
    "val_doc = np.random.permutation(open('./Project_data/val.csv').readlines())\n",
    "batch_size =  30"
   ]
  },
  {
   "cell_type": "markdown",
   "metadata": {},
   "source": [
    "## Generator\n",
    "This is one of the most important part of the code. The overall structure of the generator has been given. In the generator, you are going to preprocess the images as you have images of 2 different dimensions as well as create a batch of video frames. You have to experiment with `img_idx`, `y`,`z` and normalization such that you get high accuracy."
   ]
  },
  {
   "cell_type": "code",
   "execution_count": 15,
   "metadata": {},
   "outputs": [],
   "source": [
    "def generator(source_path, folder_list, batch_size):\n",
    "    print( 'Source path = ', source_path, '; batch size =', batch_size)\n",
    "    img_idx = range(0,30,2)#create a list of image numbers you want to use for a particular video\n",
    "    while True:\n",
    "        t = np.random.permutation(folder_list)\n",
    "        num_batches = t.shape[0]//batch_size # calculate the number of batches\n",
    "        for batch in range(num_batches): # we iterate over the number of batches\n",
    "            batch_data = np.zeros((batch_size,15,100,100,3)) # x is the number of images you use for each video, (y,z) is the final size of the input images and 3 is the number of channels RGB\n",
    "            batch_labels = np.zeros((batch_size,5)) # batch_labels is the one hot representation of the output\n",
    "            for folder in range(batch_size): # iterate over the batch_size\n",
    "                imgs = os.listdir(source_path+'/'+ t[folder + (batch*batch_size)].split(';')[0]) # read all the images in the folder\n",
    "                for idx,item in enumerate(img_idx): #  Iterate iver the frames/images of a folder to read them in\n",
    "                    image = imread(source_path+'/'+ t[folder + (batch*batch_size)].strip().split(';')[0]+'/'+imgs[item]).astype(np.float32)\n",
    "                    \n",
    "                    #h, w, _ = image.shape\n",
    "                    #image = image[int(h/2)-50:int(h/2)+50, int(w/2)-50:int(w/2)+50, : ]\n",
    "                    image = resize(image,(100,100))\n",
    "                    \n",
    "                    batch_data[folder,idx,:,:,0] = (image[:,:,0] - image[:,:,0].min())/(image[:,:,0].max() - image[:,:,0].min())#normalise and feed in the image\n",
    "                    batch_data[folder,idx,:,:,1] = (image[:,:,1] - image[:,:,1].min())/(image[:,:,1].max() - image[:,:,1].min())#normalise and feed in the image\n",
    "                    batch_data[folder,idx,:,:,2] = (image[:,:,2] - image[:,:,2].min())/(image[:,:,2].max() - image[:,:,2].min())#normalise and feed in the image\n",
    "                    \n",
    "                batch_labels[folder, int(t[folder + (batch*batch_size)].strip().split(';')[2])] = 1\n",
    "            yield batch_data, batch_labels #you yield the batch_data and the batch_labels, remember what does yield do\n",
    "\n",
    "        \n",
    "        # write the code for the remaining data points which are left after full batches\n",
    "        if(folder_list.shape[0]%batch_size == 0):\n",
    "            remaining_batch = folder_list.shape[0] - (num_batches * batch_size)\n",
    "            batch_data = np.zeros((remaining_batch,15,100,100,3))\n",
    "            batch_labels = np.zeros((remaining_batch,5))\n",
    "            for folder in range(1,remaining_batch+1):\n",
    "                img = os.listdir(source_path+'/'+ t[folder + (num_batches*batch_size)].split(';')[0])\n",
    "                for idx,item in enumerate(img_idx):\n",
    "                    image = imread(source_path+'/'+ t[folder + (num_batches*batch_size)].strip().split(';')[0]+'/'+imgs[item]).astype(np.float32)\n",
    "                    \n",
    "                    #h, w, _ = image.shape\n",
    "                    #image = image[int(h/2)-50:int(h/2)+50, int(w/2)-50:int(w/2)+50, : ]\n",
    "                    image = resize(image,(100,100))\n",
    "                    \n",
    "                    batch_data[folder,idx,:,:,0] = (image[:,:,0] - image[:,:,0].min())/(image[:,:,0].max() - image[:,:,0].min())#normalise and feed in the image\n",
    "                    batch_data[folder,idx,:,:,1] = (image[:,:,1] - image[:,:,1].min())/(image[:,:,1].max() - image[:,:,1].min())#normalise and feed in the image\n",
    "                    batch_data[folder,idx,:,:,2] = (image[:,:,2] - image[:,:,2].min())/(image[:,:,2].max() - image[:,:,2].min())#normalise and feed in the image\n",
    "                    \n",
    "                    batch_labels[folder, int(t[folder + (num_batches*batch_size)].strip().split(';')[2])] = 1\n",
    "            \n",
    "            yield batch_data, batch_labels"
   ]
  },
  {
   "cell_type": "markdown",
   "metadata": {},
   "source": [
    "Note here that a video is represented above in the generator as (number of images, height, width, number of channels). Take this into consideration while creating the model architecture."
   ]
  },
  {
   "cell_type": "code",
   "execution_count": 16,
   "metadata": {},
   "outputs": [
    {
     "name": "stdout",
     "output_type": "stream",
     "text": [
      "# training sequences = 663\n",
      "# validation sequences = 100\n",
      "# epochs = 30\n"
     ]
    }
   ],
   "source": [
    "curr_dt_time = datetime.datetime.now()\n",
    "train_path = './Project_data/train'\n",
    "val_path = './Project_data/val'\n",
    "num_train_sequences = len(train_doc)\n",
    "print('# training sequences =', num_train_sequences)\n",
    "num_val_sequences = len(val_doc)\n",
    "print('# validation sequences =', num_val_sequences)\n",
    "num_epochs = 30\n",
    "print ('# epochs =', num_epochs)"
   ]
  },
  {
   "cell_type": "markdown",
   "metadata": {},
   "source": [
    "## Model\n",
    "Here you make the model using different functionalities that Keras provides. Remember to use `Conv3D` and `MaxPooling3D` and not `Conv2D` and `Maxpooling2D` for a 3D convolution model. You would want to use `TimeDistributed` while building a Conv2D + RNN model. Also remember that the last layer is the softmax. Design the network in such a way that the model is able to give good accuracy on the least number of parameters so that it can fit in the memory of the webcam."
   ]
  },
  {
   "cell_type": "code",
   "execution_count": 17,
   "metadata": {},
   "outputs": [],
   "source": [
    "from keras.models import Sequential, Model\n",
    "from keras.layers import Dense, GRU, Flatten, TimeDistributed, Flatten, BatchNormalization, Activation ,Input ,Dropout\n",
    "from keras.layers.convolutional import Conv3D, MaxPooling3D\n",
    "from keras.callbacks import ModelCheckpoint, ReduceLROnPlateau\n",
    "from keras import optimizers,regularizers\n",
    "\n",
    "input_layer = Input((15, 100, 100, 3))\n",
    "\n",
    "conv_layer1 = Conv3D(filters=8, kernel_size=(3, 3, 3), activation='relu')(input_layer)\n",
    "conv_layer2 = Conv3D(filters=16, kernel_size=(3, 3, 3), activation='relu')(conv_layer1)\n",
    "\n",
    "pooling_layer1 = MaxPooling3D(pool_size=(2, 2, 2))(conv_layer2)\n",
    "\n",
    "conv_layer3 = Conv3D(filters=24, kernel_size=(3, 3, 3), activation='relu')(pooling_layer1)\n",
    "\n",
    "pooling_layer2 = MaxPooling3D(pool_size=(2, 2, 2))(conv_layer3)\n",
    "pooling_layer3 = BatchNormalization()(pooling_layer2)\n",
    "flatten_layer = Flatten()(pooling_layer3)\n",
    "\n",
    "dense_layer1 = Dense(units=128, activation='relu')(flatten_layer)\n",
    "dense_layer1 = Dropout(0.6)(dense_layer1)\n",
    "\n",
    "output_layer = Dense(units=5, activation='softmax')(dense_layer1)\n",
    "\n",
    "## define the model with input layer and output layer\n",
    "model = Model(inputs=input_layer, outputs=output_layer)"
   ]
  },
  {
   "cell_type": "markdown",
   "metadata": {},
   "source": [
    "Now that you have written the model, the next step is to `compile` the model. When you print the `summary` of the model, you'll see the total number of parameters you have to train."
   ]
  },
  {
   "cell_type": "code",
   "execution_count": 18,
   "metadata": {
    "scrolled": true
   },
   "outputs": [
    {
     "name": "stdout",
     "output_type": "stream",
     "text": [
      "_________________________________________________________________\n",
      "Layer (type)                 Output Shape              Param #   \n",
      "=================================================================\n",
      "input_2 (InputLayer)         (None, 15, 100, 100, 3)   0         \n",
      "_________________________________________________________________\n",
      "conv3d_4 (Conv3D)            (None, 13, 98, 98, 8)     656       \n",
      "_________________________________________________________________\n",
      "conv3d_5 (Conv3D)            (None, 11, 96, 96, 16)    3472      \n",
      "_________________________________________________________________\n",
      "max_pooling3d_3 (MaxPooling3 (None, 5, 48, 48, 16)     0         \n",
      "_________________________________________________________________\n",
      "conv3d_6 (Conv3D)            (None, 3, 46, 46, 24)     10392     \n",
      "_________________________________________________________________\n",
      "max_pooling3d_4 (MaxPooling3 (None, 1, 23, 23, 24)     0         \n",
      "_________________________________________________________________\n",
      "batch_normalization_2 (Batch (None, 1, 23, 23, 24)     96        \n",
      "_________________________________________________________________\n",
      "flatten_2 (Flatten)          (None, 12696)             0         \n",
      "_________________________________________________________________\n",
      "dense_3 (Dense)              (None, 128)               1625216   \n",
      "_________________________________________________________________\n",
      "dropout_2 (Dropout)          (None, 128)               0         \n",
      "_________________________________________________________________\n",
      "dense_4 (Dense)              (None, 5)                 645       \n",
      "=================================================================\n",
      "Total params: 1,640,477\n",
      "Trainable params: 1,640,429\n",
      "Non-trainable params: 48\n",
      "_________________________________________________________________\n",
      "None\n"
     ]
    }
   ],
   "source": [
    "optimiser = optimizers.Adadelta(lr=0.15)#write your optimizer\n",
    "model.compile(optimizer=optimiser, loss='categorical_crossentropy', metrics=['categorical_accuracy'])\n",
    "print (model.summary())"
   ]
  },
  {
   "cell_type": "markdown",
   "metadata": {},
   "source": [
    "Let us create the `train_generator` and the `val_generator` which will be used in `.fit_generator`."
   ]
  },
  {
   "cell_type": "code",
   "execution_count": 19,
   "metadata": {},
   "outputs": [],
   "source": [
    "train_generator = generator(train_path, train_doc, batch_size)\n",
    "val_generator = generator(val_path, val_doc, batch_size)"
   ]
  },
  {
   "cell_type": "code",
   "execution_count": 20,
   "metadata": {},
   "outputs": [],
   "source": [
    "model_name = 'model_init' + '_' + str(curr_dt_time).replace(' ','').replace(':','_') + '/'\n",
    "    \n",
    "if not os.path.exists(model_name):\n",
    "    os.mkdir(model_name)\n",
    "        \n",
    "filepath = model_name + 'model-{epoch:05d}-{loss:.5f}-{categorical_accuracy:.5f}-{val_loss:.5f}-{val_categorical_accuracy:.5f}.h5'\n",
    "\n",
    "checkpoint = ModelCheckpoint(filepath, monitor='val_loss', verbose=1, save_best_only=False, save_weights_only=False, mode='auto', period=1)\n",
    "\n",
    "LR = ReduceLROnPlateau(monitor='val_loss', factor=0.2, patience=2, min_lr=0.001)\n",
    "callbacks_list = [checkpoint, LR]"
   ]
  },
  {
   "cell_type": "markdown",
   "metadata": {},
   "source": [
    "The `steps_per_epoch` and `validation_steps` are used by `fit_generator` to decide the number of next() calls it need to make."
   ]
  },
  {
   "cell_type": "code",
   "execution_count": 21,
   "metadata": {},
   "outputs": [],
   "source": [
    "if (num_train_sequences%batch_size) == 0:\n",
    "    steps_per_epoch = int(num_train_sequences/batch_size)\n",
    "else:\n",
    "    steps_per_epoch = (num_train_sequences//batch_size) + 1\n",
    "\n",
    "if (num_val_sequences%batch_size) == 0:\n",
    "    validation_steps = int(num_val_sequences/batch_size)\n",
    "else:\n",
    "    validation_steps = (num_val_sequences//batch_size) + 1"
   ]
  },
  {
   "cell_type": "markdown",
   "metadata": {},
   "source": [
    "Let us now fit the model. This will start training the model and with the help of the checkpoints, you'll be able to save the model at the end of each epoch."
   ]
  },
  {
   "cell_type": "code",
   "execution_count": 22,
   "metadata": {},
   "outputs": [
    {
     "name": "stdout",
     "output_type": "stream",
     "text": [
      "Source path = Source path =  ./Project_data/train ; batch size = 30\n",
      "Epoch 1/30\n",
      " ./Project_data/val ; batch size = 30\n",
      "23/23 [==============================] - 24s 1s/step - loss: 1.6154 - categorical_accuracy: 0.3623 - val_loss: 1.1403 - val_categorical_accuracy: 0.5833\n",
      "\n",
      "Epoch 00001: saving model to model_init_2019-09-1613_02_12.028052/model-00001-1.61537-0.36232-1.14031-0.58333.h5\n",
      "Epoch 2/30\n",
      "23/23 [==============================] - 22s 962ms/step - loss: 1.0599 - categorical_accuracy: 0.5841 - val_loss: 0.9819 - val_categorical_accuracy: 0.6167\n",
      "\n",
      "Epoch 00002: saving model to model_init_2019-09-1613_02_12.028052/model-00002-1.05993-0.58406-0.98188-0.61667.h5\n",
      "Epoch 3/30\n",
      "23/23 [==============================] - 22s 936ms/step - loss: 0.7416 - categorical_accuracy: 0.7101 - val_loss: 1.1627 - val_categorical_accuracy: 0.5417\n",
      "\n",
      "Epoch 00003: saving model to model_init_2019-09-1613_02_12.028052/model-00003-0.74157-0.71014-1.16270-0.54167.h5\n",
      "Epoch 4/30\n",
      "23/23 [==============================] - 22s 952ms/step - loss: 0.5858 - categorical_accuracy: 0.7899 - val_loss: 0.9195 - val_categorical_accuracy: 0.6333\n",
      "\n",
      "Epoch 00004: saving model to model_init_2019-09-1613_02_12.028052/model-00004-0.58581-0.78986-0.91946-0.63333.h5\n",
      "Epoch 5/30\n",
      "23/23 [==============================] - 22s 954ms/step - loss: 0.4963 - categorical_accuracy: 0.8377 - val_loss: 1.2300 - val_categorical_accuracy: 0.6000\n",
      "\n",
      "Epoch 00005: saving model to model_init_2019-09-1613_02_12.028052/model-00005-0.49628-0.83768-1.22996-0.60000.h5\n",
      "Epoch 6/30\n",
      "23/23 [==============================] - 22s 970ms/step - loss: 0.3959 - categorical_accuracy: 0.8652 - val_loss: 0.9472 - val_categorical_accuracy: 0.6917\n",
      "\n",
      "Epoch 00006: saving model to model_init_2019-09-1613_02_12.028052/model-00006-0.39586-0.86522-0.94725-0.69167.h5\n",
      "Epoch 7/30\n",
      "23/23 [==============================] - 22s 938ms/step - loss: 0.2900 - categorical_accuracy: 0.9116 - val_loss: 0.8795 - val_categorical_accuracy: 0.7083\n",
      "\n",
      "Epoch 00007: saving model to model_init_2019-09-1613_02_12.028052/model-00007-0.29000-0.91159-0.87947-0.70833.h5\n",
      "Epoch 8/30\n",
      "23/23 [==============================] - 23s 982ms/step - loss: 0.2648 - categorical_accuracy: 0.9348 - val_loss: 0.9370 - val_categorical_accuracy: 0.6833\n",
      "\n",
      "Epoch 00008: saving model to model_init_2019-09-1613_02_12.028052/model-00008-0.26478-0.93478-0.93705-0.68333.h5\n",
      "Epoch 9/30\n",
      "23/23 [==============================] - 22s 967ms/step - loss: 0.2689 - categorical_accuracy: 0.9246 - val_loss: 0.8865 - val_categorical_accuracy: 0.7167\n",
      "\n",
      "Epoch 00009: saving model to model_init_2019-09-1613_02_12.028052/model-00009-0.26886-0.92464-0.88650-0.71667.h5\n",
      "Epoch 10/30\n",
      "23/23 [==============================] - 22s 943ms/step - loss: 0.2571 - categorical_accuracy: 0.9203 - val_loss: 0.8067 - val_categorical_accuracy: 0.7250\n",
      "\n",
      "Epoch 00010: saving model to model_init_2019-09-1613_02_12.028052/model-00010-0.25707-0.92029-0.80668-0.72500.h5\n",
      "Epoch 11/30\n",
      "23/23 [==============================] - 23s 980ms/step - loss: 0.2472 - categorical_accuracy: 0.9217 - val_loss: 0.8429 - val_categorical_accuracy: 0.7250\n",
      "\n",
      "Epoch 00011: saving model to model_init_2019-09-1613_02_12.028052/model-00011-0.24718-0.92174-0.84285-0.72500.h5\n",
      "Epoch 12/30\n",
      "23/23 [==============================] - 22s 977ms/step - loss: 0.2467 - categorical_accuracy: 0.9261 - val_loss: 0.8497 - val_categorical_accuracy: 0.7167\n",
      "\n",
      "Epoch 00012: saving model to model_init_2019-09-1613_02_12.028052/model-00012-0.24672-0.92609-0.84971-0.71667.h5\n",
      "Epoch 13/30\n",
      "23/23 [==============================] - 22s 950ms/step - loss: 0.2488 - categorical_accuracy: 0.9449 - val_loss: 0.9036 - val_categorical_accuracy: 0.6917\n",
      "\n",
      "Epoch 00013: saving model to model_init_2019-09-1613_02_12.028052/model-00013-0.24876-0.94493-0.90363-0.69167.h5\n",
      "Epoch 14/30\n",
      "23/23 [==============================] - 22s 959ms/step - loss: 0.2741 - categorical_accuracy: 0.9261 - val_loss: 0.8261 - val_categorical_accuracy: 0.7333\n",
      "\n",
      "Epoch 00014: saving model to model_init_2019-09-1613_02_12.028052/model-00014-0.27407-0.92609-0.82613-0.73333.h5\n",
      "Epoch 15/30\n",
      "23/23 [==============================] - 23s 982ms/step - loss: 0.2572 - categorical_accuracy: 0.9246 - val_loss: 0.8175 - val_categorical_accuracy: 0.7417\n",
      "\n",
      "Epoch 00015: saving model to model_init_2019-09-1613_02_12.028052/model-00015-0.25718-0.92464-0.81754-0.74167.h5\n",
      "Epoch 16/30\n",
      "23/23 [==============================] - 22s 958ms/step - loss: 0.2424 - categorical_accuracy: 0.9290 - val_loss: 0.8968 - val_categorical_accuracy: 0.7083\n",
      "\n",
      "Epoch 00016: saving model to model_init_2019-09-1613_02_12.028052/model-00016-0.24241-0.92899-0.89677-0.70833.h5\n",
      "Epoch 17/30\n",
      "23/23 [==============================] - 22s 968ms/step - loss: 0.2320 - categorical_accuracy: 0.9478 - val_loss: 0.7697 - val_categorical_accuracy: 0.7417\n",
      "\n",
      "Epoch 00017: saving model to model_init_2019-09-1613_02_12.028052/model-00017-0.23196-0.94783-0.76968-0.74167.h5\n",
      "Epoch 18/30\n",
      "23/23 [==============================] - 22s 964ms/step - loss: 0.2287 - categorical_accuracy: 0.9449 - val_loss: 0.8598 - val_categorical_accuracy: 0.7167\n",
      "\n",
      "Epoch 00018: saving model to model_init_2019-09-1613_02_12.028052/model-00018-0.22875-0.94493-0.85978-0.71667.h5\n",
      "Epoch 19/30\n",
      "23/23 [==============================] - 22s 949ms/step - loss: 0.2448 - categorical_accuracy: 0.9348 - val_loss: 0.7988 - val_categorical_accuracy: 0.7250\n",
      "\n",
      "Epoch 00019: saving model to model_init_2019-09-1613_02_12.028052/model-00019-0.24476-0.93478-0.79880-0.72500.h5\n",
      "Epoch 20/30\n",
      "23/23 [==============================] - 22s 968ms/step - loss: 0.2208 - categorical_accuracy: 0.9435 - val_loss: 1.0379 - val_categorical_accuracy: 0.6417\n",
      "\n",
      "Epoch 00020: saving model to model_init_2019-09-1613_02_12.028052/model-00020-0.22078-0.94348-1.03788-0.64167.h5\n",
      "Epoch 21/30\n",
      "23/23 [==============================] - 22s 951ms/step - loss: 0.2586 - categorical_accuracy: 0.9232 - val_loss: 0.7171 - val_categorical_accuracy: 0.8000\n",
      "\n",
      "Epoch 00021: saving model to model_init_2019-09-1613_02_12.028052/model-00021-0.25863-0.92319-0.71710-0.80000.h5\n",
      "Epoch 22/30\n",
      "23/23 [==============================] - 22s 968ms/step - loss: 0.2617 - categorical_accuracy: 0.9275 - val_loss: 0.8459 - val_categorical_accuracy: 0.6917\n",
      "\n",
      "Epoch 00022: saving model to model_init_2019-09-1613_02_12.028052/model-00022-0.26168-0.92754-0.84587-0.69167.h5\n",
      "Epoch 23/30\n",
      "23/23 [==============================] - 22s 960ms/step - loss: 0.2380 - categorical_accuracy: 0.9333 - val_loss: 0.7855 - val_categorical_accuracy: 0.7333\n",
      "\n",
      "Epoch 00023: saving model to model_init_2019-09-1613_02_12.028052/model-00023-0.23797-0.93333-0.78549-0.73333.h5\n",
      "Epoch 24/30\n",
      "23/23 [==============================] - 22s 951ms/step - loss: 0.2659 - categorical_accuracy: 0.9174 - val_loss: 0.9095 - val_categorical_accuracy: 0.7000\n",
      "\n",
      "Epoch 00024: saving model to model_init_2019-09-1613_02_12.028052/model-00024-0.26587-0.91739-0.90947-0.70000.h5\n",
      "Epoch 25/30\n",
      "23/23 [==============================] - 23s 980ms/step - loss: 0.2408 - categorical_accuracy: 0.9290 - val_loss: 0.8805 - val_categorical_accuracy: 0.7167\n",
      "\n",
      "Epoch 00025: saving model to model_init_2019-09-1613_02_12.028052/model-00025-0.24084-0.92899-0.88047-0.71667.h5\n",
      "Epoch 26/30\n",
      "23/23 [==============================] - 22s 949ms/step - loss: 0.2234 - categorical_accuracy: 0.9348 - val_loss: 0.9116 - val_categorical_accuracy: 0.7000\n",
      "\n",
      "Epoch 00026: saving model to model_init_2019-09-1613_02_12.028052/model-00026-0.22341-0.93478-0.91160-0.70000.h5\n",
      "Epoch 27/30\n",
      "23/23 [==============================] - 22s 960ms/step - loss: 0.2257 - categorical_accuracy: 0.9406 - val_loss: 0.7571 - val_categorical_accuracy: 0.7417\n",
      "\n",
      "Epoch 00027: saving model to model_init_2019-09-1613_02_12.028052/model-00027-0.22571-0.94058-0.75707-0.74167.h5\n",
      "Epoch 28/30\n",
      "23/23 [==============================] - 22s 957ms/step - loss: 0.2633 - categorical_accuracy: 0.9319 - val_loss: 0.8723 - val_categorical_accuracy: 0.7167\n",
      "\n",
      "Epoch 00028: saving model to model_init_2019-09-1613_02_12.028052/model-00028-0.26333-0.93188-0.87228-0.71667.h5\n",
      "Epoch 29/30\n",
      "23/23 [==============================] - 22s 950ms/step - loss: 0.2510 - categorical_accuracy: 0.9319 - val_loss: 0.8354 - val_categorical_accuracy: 0.7167\n",
      "\n",
      "Epoch 00029: saving model to model_init_2019-09-1613_02_12.028052/model-00029-0.25100-0.93188-0.83536-0.71667.h5\n",
      "Epoch 30/30\n"
     ]
    },
    {
     "name": "stdout",
     "output_type": "stream",
     "text": [
      "23/23 [==============================] - 22s 957ms/step - loss: 0.2224 - categorical_accuracy: 0.9391 - val_loss: 0.9139 - val_categorical_accuracy: 0.7083\n",
      "\n",
      "Epoch 00030: saving model to model_init_2019-09-1613_02_12.028052/model-00030-0.22240-0.93913-0.91388-0.70833.h5\n"
     ]
    },
    {
     "data": {
      "text/plain": [
       "<keras.callbacks.History at 0x7f0e6c573eb8>"
      ]
     },
     "execution_count": 22,
     "metadata": {},
     "output_type": "execute_result"
    }
   ],
   "source": [
    "model.fit_generator(train_generator, steps_per_epoch=steps_per_epoch, epochs=num_epochs, verbose=1, \n",
    "                    callbacks=callbacks_list, validation_data=val_generator, \n",
    "                    validation_steps=validation_steps, class_weight=None, workers=1, initial_epoch=0)"
   ]
  }
 ],
 "metadata": {
  "kernelspec": {
   "display_name": "Python 3",
   "language": "python",
   "name": "python3"
  },
  "language_info": {
   "codemirror_mode": {
    "name": "ipython",
    "version": 3
   },
   "file_extension": ".py",
   "mimetype": "text/x-python",
   "name": "python",
   "nbconvert_exporter": "python",
   "pygments_lexer": "ipython3",
   "version": "3.6.8"
  }
 },
 "nbformat": 4,
 "nbformat_minor": 2
}
